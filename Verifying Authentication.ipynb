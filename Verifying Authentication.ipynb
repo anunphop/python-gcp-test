{
 "cells": [
  {
   "cell_type": "code",
   "execution_count": 16,
   "metadata": {},
   "outputs": [
    {
     "name": "stdout",
     "output_type": "stream",
     "text": [
      "env: GOOGLE_APPLICATION_CREDENTIALS=/Users/pattana/adapter/podcast-transcription-e8dc0eaadd2c.json\n"
     ]
    }
   ],
   "source": [
    "%env GOOGLE_APPLICATION_CREDENTIALS=/Users/pattana/adapter/podcast-transcription-e8dc0eaadd2c.json"
   ]
  },
  {
   "cell_type": "code",
   "execution_count": 17,
   "metadata": {},
   "outputs": [
    {
     "data": {
      "text/plain": [
       "{'TERM_PROGRAM': 'Apple_Terminal',\n",
       " 'SHELL': '/bin/zsh',\n",
       " 'TERM': 'xterm-color',\n",
       " 'TMPDIR': '/var/folders/2c/9ng2mdl97zbblcnrwd0wgh0r0000gp/T/',\n",
       " 'CONDA_SHLVL': '1',\n",
       " 'CONDA_PROMPT_MODIFIER': '(base) ',\n",
       " 'TERM_PROGRAM_VERSION': '433',\n",
       " 'TERM_SESSION_ID': '878149E7-5CA0-48DC-B6D6-820D258B89D0',\n",
       " 'LC_ALL': 'en_US.UTF-8',\n",
       " 'USER': 'pattana',\n",
       " 'CONDA_EXE': '/Users/pattana/opt/anaconda3/bin/conda',\n",
       " 'SSH_AUTH_SOCK': '/private/tmp/com.apple.launchd.cs1xMDXnbX/Listeners',\n",
       " '_CE_CONDA': '',\n",
       " 'CONDA_ROOT': '/Users/pattana/opt/anaconda3',\n",
       " 'PATH': '/usr/local/bin:/usr/bin:/bin:/usr/sbin:/sbin:/Library/Frameworks/Mono.framework/Versions/Current/Commands',\n",
       " 'CONDA_PREFIX': '/Users/pattana/opt/anaconda3',\n",
       " 'PWD': '/Users/pattana',\n",
       " 'LANG': 'en_US.UTF-8',\n",
       " 'XPC_FLAGS': '0x0',\n",
       " 'XPC_SERVICE_NAME': '0',\n",
       " '_CE_M': '',\n",
       " 'HOME': '/Users/pattana',\n",
       " 'SHLVL': '4',\n",
       " 'QT_API': 'pyqt5',\n",
       " 'LOGNAME': 'pattana',\n",
       " 'CONDA_PYTHON_EXE': '/Users/pattana/opt/anaconda3/bin/python',\n",
       " 'LC_CTYPE': 'UTF-8',\n",
       " 'CONDA_DEFAULT_ENV': 'base',\n",
       " '_': '/Users/pattana/opt/anaconda3/envs/adapter/bin/jupyter-notebook',\n",
       " 'KERNEL_LAUNCH_TIMEOUT': '40',\n",
       " 'JPY_PARENT_PID': '4033',\n",
       " 'CLICOLOR': '1',\n",
       " 'PAGER': 'cat',\n",
       " 'GIT_PAGER': 'cat',\n",
       " 'MPLBACKEND': 'module://ipykernel.pylab.backend_inline',\n",
       " 'GOOGLE_APPLICATION_CREDENTIALS': '/Users/pattana/adapter/podcast-transcription-e8dc0eaadd2c.json'}"
      ]
     },
     "execution_count": 17,
     "metadata": {},
     "output_type": "execute_result"
    }
   ],
   "source": [
    "%env"
   ]
  },
  {
   "cell_type": "code",
   "execution_count": 18,
   "metadata": {},
   "outputs": [
    {
     "name": "stdout",
     "output_type": "stream",
     "text": [
      "/Users/pattana/adapter/podcast-transcription-e8dc0eaadd2c.json\r\n"
     ]
    }
   ],
   "source": [
    "!ls /Users/pattana/adapter/podcast-transcription-e8dc0eaadd2c.json"
   ]
  },
  {
   "cell_type": "code",
   "execution_count": 19,
   "metadata": {},
   "outputs": [],
   "source": [
    "def implicit():\n",
    "    from google.cloud import storage\n",
    "\n",
    "    # If you don't specify credentials when constructing the client, the\n",
    "    # client library will look for credentials in the environment.\n",
    "    storage_client = storage.Client()\n",
    "\n",
    "    # Make an authenticated API request\n",
    "    buckets = list(storage_client.list_buckets())\n",
    "    print(buckets)"
   ]
  },
  {
   "cell_type": "code",
   "execution_count": 20,
   "metadata": {},
   "outputs": [
    {
     "name": "stdout",
     "output_type": "stream",
     "text": [
      "[<Bucket: thestandard-podcast>]\n"
     ]
    }
   ],
   "source": [
    "implicit()"
   ]
  },
  {
   "cell_type": "code",
   "execution_count": null,
   "metadata": {},
   "outputs": [],
   "source": []
  }
 ],
 "metadata": {
  "kernelspec": {
   "display_name": "Python 3",
   "language": "python",
   "name": "python3"
  },
  "language_info": {
   "codemirror_mode": {
    "name": "ipython",
    "version": 3
   },
   "file_extension": ".py",
   "mimetype": "text/x-python",
   "name": "python",
   "nbconvert_exporter": "python",
   "pygments_lexer": "ipython3",
   "version": "3.7.6"
  }
 },
 "nbformat": 4,
 "nbformat_minor": 4
}
